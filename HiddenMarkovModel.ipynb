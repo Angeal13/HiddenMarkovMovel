{
  "nbformat": 4,
  "nbformat_minor": 0,
  "metadata": {
    "colab": {
      "name": "HiddenMarkovModel.ipynb",
      "provenance": [],
      "collapsed_sections": [],
      "authorship_tag": "ABX9TyNURWO9rCxL9kkk3+3hWZcS",
      "include_colab_link": true
    },
    "kernelspec": {
      "name": "python3",
      "display_name": "Python 3"
    }
  },
  "cells": [
    {
      "cell_type": "markdown",
      "metadata": {
        "id": "view-in-github",
        "colab_type": "text"
      },
      "source": [
        "<a href=\"https://colab.research.google.com/github/Angeal13/HiddenMarkovMovel/blob/master/HiddenMarkovModel.ipynb\" target=\"_parent\"><img src=\"https://colab.research.google.com/assets/colab-badge.svg\" alt=\"Open In Colab\"/></a>"
      ]
    },
    {
      "cell_type": "code",
      "metadata": {
        "id": "gBxHhCM_hxlE",
        "colab_type": "code",
        "colab": {}
      },
      "source": [
        "%tensorflow_version 2.x #Tensor flow 2.0"
      ],
      "execution_count": 0,
      "outputs": []
    },
    {
      "cell_type": "code",
      "metadata": {
        "id": "A80zRKtdn4xF",
        "colab_type": "code",
        "colab": {}
      },
      "source": [
        "!pip install tensorflow_probability==0.8.0rc0 --user --upgrade"
      ],
      "execution_count": 0,
      "outputs": []
    },
    {
      "cell_type": "code",
      "metadata": {
        "id": "TRreG8V3h0I0",
        "colab_type": "code",
        "colab": {}
      },
      "source": [
        "import tensorflow_probability as tfp #Module being used for the project. Different from Tesorflow that will deal with probability\n",
        "import tensorflow as tf\n"
      ],
      "execution_count": 0,
      "outputs": []
    },
    {
      "cell_type": "code",
      "metadata": {
        "id": "wm3gl9fqiIH5",
        "colab_type": "code",
        "colab": {}
      },
      "source": [
        "tfd=tfp.distributions #shortcut made for the fuction\n",
        "initial_distribution=tfd.Categorical(probs=[0.8,0.2]) #Refers to cold[0] and hot[1] days\n",
        "transition_distribution= tfd.Categorical(probs=[[0.7,0.3],\n",
        "                                              [0.2,0.8]])#REfers to the probability of transition[i,j],where cold[i,0] and hot [i,1]\n",
        "observation_distribution=tfd.Normal(loc=[0.,15.],scale=[5.,10.])#Refers tof the mean and the +- to be added to the mean as the scale of values\n",
        "# Loc represents the means and the scale the Standard Deviation"
      ],
      "execution_count": 0,
      "outputs": []
    },
    {
      "cell_type": "code",
      "metadata": {
        "id": "yAvmhG5wmIV9",
        "colab_type": "code",
        "colab": {}
      },
      "source": [
        " model = tfd.HiddenMarkovModel(\n",
        "    initial_distribution=initial_distribution,\n",
        "    transition_distribution=transition_distribution,\n",
        "    observation_distribution=observation_distribution,\n",
        "    num_steps=7) #Number of times we want ot throught the algorithms,In this case number of days we wan to predict in advance\n"
      ],
      "execution_count": 0,
      "outputs": []
    },
    {
      "cell_type": "code",
      "metadata": {
        "id": "RsQPhZ4U9r5B",
        "colab_type": "code",
        "colab": {
          "base_uri": "https://localhost:8080/",
          "height": 34
        },
        "outputId": "880b1cc5-3e87-4288-f5b5-b9df572f3e63"
      },
      "source": [
        "mean = model.mean()\n",
        "#Due to the way TensorFlow works on a lower level we need to evaluate part of the graph\n",
        "#From within a session to see the value of this Tensor\n",
        "\n",
        "#In the new version of tensoflow we needto use tf.compat.v1.Session() ratehr than just tf.Session()\n",
        "with tf.compat.v1.Session() as sess:\n",
        "  print(mean.numpy())"
      ],
      "execution_count": 10,
      "outputs": [
        {
          "output_type": "stream",
          "text": [
            "[2.9999998 5.9999995 7.4999995 8.25      8.625001  8.812501  8.90625  ]\n"
          ],
          "name": "stdout"
        }
      ]
    }
  ]
}